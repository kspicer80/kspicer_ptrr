{
 "cells": [
  {
   "cell_type": "code",
   "execution_count": 12,
   "metadata": {},
   "outputs": [],
   "source": [
    "import os\n",
    "import textract\n",
    "import pandas as pd\n",
    "import re"
   ]
  },
  {
   "cell_type": "code",
   "execution_count": 13,
   "metadata": {},
   "outputs": [
    {
     "name": "stdout",
     "output_type": "stream",
     "text": [
      "Error processing file: .\\fall_2019_e\\marinodaniel_3881516_59243349_Final Project Weird Lit..docx\n",
      "Error processing file: .\\fall_2019_e\\perezmiryam_3878768_59262671_Final Lit Project.docx\n",
      "Error processing file: .\\fall_2019_online\\charnotdavid_3879716_59266777_weird fiction final.docx\n",
      "Error processing file: .\\fall_2019_online\\cooperdominic_3869658_59269791_Weird Fiction Final Project.docx\n",
      "Error processing file: .\\fall_2019_online\\gostkowskijack_LATE_3878260_59275085_JGFInalProject.docx\n",
      "Error processing file: .\\fall_2019_online\\kotrbamartina_LATE_3878152_59275859_Final Poem for Literature-2.docx\n",
      "Error processing file: .\\fall_2019_online\\melinemelissa_3882080_59274481_final project meline.docx\n",
      "Error processing file: .\\fall_2019_online\\ochotorenaconrad_3863144_59274757_Final Project.docx\n",
      "Error processing file: .\\fall_2019_online\\osegueranelesa_LATE_3881196_59275697_Document12 (1).docx\n",
      "Error processing file: .\\fall_2019_online\\schramjessica_3884060_59274517_weird fic- final project.docx\n",
      "Error processing file: .\\fall_2020\\alexisrobbins_3893242_60351219_Robbins_FinalProject.docx\n",
      "Error processing file: .\\fall_2020\\jasmineescamilla_3902678_60351079_LIT Final Project.docx\n",
      "Error processing file: .\\fall_2020\\kendallpeatross_3885768_60350453_English Final Project.docx\n",
      "Error processing file: .\\fall_2020\\makaylabarefield_3892648_60351455_Makayla Barefield Weird fiction final.docx\n",
      "Error processing file: .\\fall_2020\\mwansapescetto_3895642_60304927_Would you.docx\n",
      "Error processing file: .\\fall_2021\\alvarezdaya_3907334_61464599_Lit. Final Proposal.docx\n",
      "Error processing file: .\\fall_2021\\campagnasalvatore_3899744_61464543_Weird Fiction Final Reflection Essay.docx\n",
      "Error processing file: .\\fall_2021\\cuaresmajanvernice_3900394_61464301_Personal Reflection (Intro. to Weird Fiction Lit Fall 2021).toWeirdFictionLitFall2021.docx\n",
      "Error processing file: .\\fall_2021\\dalyryan_3899514_61426909_Reflection paper Weird Lit.docx\n",
      "Error processing file: .\\fall_2021\\duskejaclyn_3899518_61367881_Final Exam .docx\n",
      "Error processing file: .\\fall_2021\\madrigalkaren_3901486_61465189_Final project Literature.docx\n",
      "Error processing file: .\\fall_2021\\mafadeenadeen_3905040_61458009_Final project.docx\n",
      "Error processing file: .\\fall_2022\\hartsfieldjason_3909522_62458377_Final Relfection - Weird Fic.docx\n",
      "Error processing file: .\\fall_2022\\joachimdakoda_3918792_62462947_Final Project (Lit) - Joachim.docx\n",
      "Error processing file: .\\spring_2020\\dengdechen_3881044_59665567_Self reflection final paper.docx\n",
      "Error processing file: .\\spring_2021\\carlyvidovic_3899494_60786309_Werid Fiction Final.docx\n",
      "Error processing file: .\\spring_2021\\gregorybriseno_3899510_60762559_Storytelling Devices Final Reflection Essay.docx\n",
      "Error processing file: .\\spring_2021\\josephbuggemi_3895328_60783343_weird fiction final.docx\n",
      "Error processing file: .\\spring_2021\\lilinewtoff_3900406_60792291_Final Project reflection.docx\n",
      "Error processing file: .\\spring_2021\\morgancrowley_3900380_60792317_intro to lit- Final Exam Reflection.docx\n",
      "Error processing file: .\\spring_2021\\noëllieinard_3891484_60791851_WEIRD FICTION FINAL PROJECT.docx\n",
      "Error processing file: .\\spring_2021\\samuelpileggi_3899486_60777297_final wierd fiction paper.docx\n",
      "Error processing file: .\\spring_2022\\achewilliam_3900572_61834971_Weird Lit.docx\n",
      "Error processing file: .\\spring_2022\\davilacaroline_LATE_3908376_61838327_Final Project-1.docx\n",
      "Error processing file: .\\spring_2022\\jonesdelaney_3909442_61835007_Final Project- Intro to Lit.docx\n",
      "Error processing file: .\\spring_2022\\millerlogan_3899426_61819733_Final Project.docx\n",
      "Error processing file: .\\summer_2020\\beaudoinmichael_3886672_59828601_Final Project.docx\n",
      "Error processing file: .\\summer_2020\\orahillylily_3878306_59829497_Lit Final Project.docx\n",
      "Error processing file: .\\summer_2020\\osoriomendezallie_3896588_59829543_story.docx\n",
      "Error processing file: .\\summer_2020\\pruchnikmichael_3850389_59827893_Final Project - Personal  Reflection.docx\n",
      "Error processing file: .\\summer_2020\\sistoskayla_3896680_59828651_English Story final.docx\n",
      "Error processing file: .\\summer_2021\\cheridanmatan_3899992_60973299_ENGL-200A Final Project.docx\n",
      "Error processing file: .\\summer_2021\\dianegumble_3901794_60982217_weird lit final poject.docx\n",
      "Error processing file: .\\summer_2021\\ryanking_3895786_60981615_weirdlit_king.docx\n"
     ]
    }
   ],
   "source": [
    "import os\n",
    "import docx2txt\n",
    "import shutil\n",
    "\n",
    "search_terms = ['reflection', 'Reflection', 'reflect', 'reflected', 'REFLECTION']\n",
    "src_folder = '.'  # the folder containing the docx files\n",
    "dst_folder = 'reflection_projects'\n",
    "\n",
    "txt_files_with_search_terms = []\n",
    "\n",
    "for root, _, files in os.walk('.'):\n",
    "    for file in files:\n",
    "        if file.endswith('.docx'):\n",
    "            file_path = os.path.join(root, file)\n",
    "            try:\n",
    "                text = docx2txt.process(file_path)\n",
    "                if any(term in text for term in search_terms):\n",
    "                    txt_files_with_search_terms.append(file_path)\n",
    "                    dst_path = os.path.join(dst_folder, file)\n",
    "                    shutil.copyfile(file_path, dst_path)\n",
    "            except:\n",
    "                print(f\"Error processing file: {file_path}\")"
   ]
  },
  {
   "cell_type": "code",
   "execution_count": 14,
   "metadata": {},
   "outputs": [
    {
     "data": {
      "text/plain": [
       "44"
      ]
     },
     "execution_count": 14,
     "metadata": {},
     "output_type": "execute_result"
    }
   ],
   "source": [
    "len(txt_files_with_search_terms)"
   ]
  },
  {
   "cell_type": "code",
   "execution_count": 15,
   "metadata": {},
   "outputs": [],
   "source": [
    "from helper_functions import getTopSentence\n",
    "from helper_functions import getSubjectivity\n",
    "from helper_functions import getPolarity\n",
    "from helper_functions import getFinalSentimentScore\n",
    "\n",
    "actual_text = []\n",
    "subjectivity_scores = []\n",
    "polarity_scores = []\n",
    "\n",
    "for filename in txt_files_with_search_terms:\n",
    "    text = docx2txt.process(filename)\n",
    "    actual_text.append(text)\n",
    "    subjectivity_score = getSubjectivity(text)\n",
    "    subjectivity_scores.append(subjectivity_score)\n",
    "    polarity_score = getPolarity(text)\n",
    "    polarity_scores.append(polarity_score)"
   ]
  },
  {
   "cell_type": "code",
   "execution_count": 16,
   "metadata": {},
   "outputs": [],
   "source": [
    "# Create a Pandas DataFrame\n",
    "df = pd.DataFrame({'filename': txt_files_with_search_terms,\n",
    "            'actual_text': actual_text,       \n",
    "            'polarity_score': polarity_scores,\n",
    "            'subjectivity_score': subjectivity_scores\n",
    "            })"
   ]
  },
  {
   "cell_type": "code",
   "execution_count": 17,
   "metadata": {},
   "outputs": [],
   "source": [
    "def replace_new_lines_and_extra_spaces(string):\n",
    "    result_string = re.sub(r'\\n+', ' ', string)  # replace all occurrences of one or more \\n characters with a space\n",
    "    result_string = re.sub(r' {2,}', ' ', string)  # replace all occurrences of two or more spaces with a single space\n",
    "    return result_string"
   ]
  },
  {
   "cell_type": "code",
   "execution_count": 18,
   "metadata": {},
   "outputs": [],
   "source": [
    "df['actual_text'] = df['actual_text'].apply(replace_new_lines_and_extra_spaces)"
   ]
  },
  {
   "cell_type": "code",
   "execution_count": 19,
   "metadata": {},
   "outputs": [],
   "source": [
    "from helper_functions import getFinalSentimentScore\n",
    "\n",
    "df['TextBlob_Analysis'] = df['polarity_score'].apply(getFinalSentimentScore)"
   ]
  },
  {
   "cell_type": "code",
   "execution_count": 20,
   "metadata": {},
   "outputs": [
    {
     "data": {
      "text/html": [
       "<div>\n",
       "<style scoped>\n",
       "    .dataframe tbody tr th:only-of-type {\n",
       "        vertical-align: middle;\n",
       "    }\n",
       "\n",
       "    .dataframe tbody tr th {\n",
       "        vertical-align: top;\n",
       "    }\n",
       "\n",
       "    .dataframe thead th {\n",
       "        text-align: right;\n",
       "    }\n",
       "</style>\n",
       "<table border=\"1\" class=\"dataframe\">\n",
       "  <thead>\n",
       "    <tr style=\"text-align: right;\">\n",
       "      <th></th>\n",
       "      <th>filename</th>\n",
       "      <th>actual_text</th>\n",
       "      <th>polarity_score</th>\n",
       "      <th>subjectivity_score</th>\n",
       "      <th>TextBlob_Analysis</th>\n",
       "    </tr>\n",
       "  </thead>\n",
       "  <tbody>\n",
       "    <tr>\n",
       "      <th>0</th>\n",
       "      <td>.\\fall_2019_e\\marinodaniel_3881516_59243349_Fi...</td>\n",
       "      <td>Dan Marino\\n\\nIntro to Lit: Weird Fiction \\n\\n...</td>\n",
       "      <td>0.063490</td>\n",
       "      <td>0.495673</td>\n",
       "      <td>Positive</td>\n",
       "    </tr>\n",
       "    <tr>\n",
       "      <th>1</th>\n",
       "      <td>.\\fall_2019_e\\perezmiryam_3878768_59262671_Fin...</td>\n",
       "      <td>Final Lit Project\\n\\nWeird Fiction “Mixtape”\\n...</td>\n",
       "      <td>0.029138</td>\n",
       "      <td>0.462531</td>\n",
       "      <td>Positive</td>\n",
       "    </tr>\n",
       "    <tr>\n",
       "      <th>2</th>\n",
       "      <td>.\\fall_2019_online\\charnotdavid_3879716_592667...</td>\n",
       "      <td>David Charnot \\n\\nProfessor Spicer \\n\\nWeird F...</td>\n",
       "      <td>0.140389</td>\n",
       "      <td>0.508102</td>\n",
       "      <td>Positive</td>\n",
       "    </tr>\n",
       "    <tr>\n",
       "      <th>3</th>\n",
       "      <td>.\\fall_2019_online\\cooperdominic_3869658_59269...</td>\n",
       "      <td>2\\n\\n\\n\\n2\\n\\nWEIRD FICTION FINAL PROJECT\\n\\n\\...</td>\n",
       "      <td>0.107519</td>\n",
       "      <td>0.470051</td>\n",
       "      <td>Positive</td>\n",
       "    </tr>\n",
       "    <tr>\n",
       "      <th>4</th>\n",
       "      <td>.\\fall_2019_online\\gostkowskijack_LATE_3878260...</td>\n",
       "      <td>Jack Gostkowski\\n\\nSpicer Weird Fiction\\n\\nDec...</td>\n",
       "      <td>0.086473</td>\n",
       "      <td>0.554712</td>\n",
       "      <td>Positive</td>\n",
       "    </tr>\n",
       "  </tbody>\n",
       "</table>\n",
       "</div>"
      ],
      "text/plain": [
       "                                            filename  \\\n",
       "0  .\\fall_2019_e\\marinodaniel_3881516_59243349_Fi...   \n",
       "1  .\\fall_2019_e\\perezmiryam_3878768_59262671_Fin...   \n",
       "2  .\\fall_2019_online\\charnotdavid_3879716_592667...   \n",
       "3  .\\fall_2019_online\\cooperdominic_3869658_59269...   \n",
       "4  .\\fall_2019_online\\gostkowskijack_LATE_3878260...   \n",
       "\n",
       "                                         actual_text  polarity_score  \\\n",
       "0  Dan Marino\\n\\nIntro to Lit: Weird Fiction \\n\\n...        0.063490   \n",
       "1  Final Lit Project\\n\\nWeird Fiction “Mixtape”\\n...        0.029138   \n",
       "2  David Charnot \\n\\nProfessor Spicer \\n\\nWeird F...        0.140389   \n",
       "3  2\\n\\n\\n\\n2\\n\\nWEIRD FICTION FINAL PROJECT\\n\\n\\...        0.107519   \n",
       "4  Jack Gostkowski\\n\\nSpicer Weird Fiction\\n\\nDec...        0.086473   \n",
       "\n",
       "   subjectivity_score TextBlob_Analysis  \n",
       "0            0.495673          Positive  \n",
       "1            0.462531          Positive  \n",
       "2            0.508102          Positive  \n",
       "3            0.470051          Positive  \n",
       "4            0.554712          Positive  "
      ]
     },
     "execution_count": 20,
     "metadata": {},
     "output_type": "execute_result"
    }
   ],
   "source": [
    "df.head()"
   ]
  },
  {
   "cell_type": "code",
   "execution_count": 21,
   "metadata": {},
   "outputs": [
    {
     "data": {
      "text/plain": [
       "Positive    38\n",
       "Negative     6\n",
       "Name: TextBlob_Analysis, dtype: int64"
      ]
     },
     "execution_count": 21,
     "metadata": {},
     "output_type": "execute_result"
    }
   ],
   "source": [
    "df.TextBlob_Analysis.value_counts()"
   ]
  },
  {
   "cell_type": "code",
   "execution_count": 22,
   "metadata": {},
   "outputs": [
    {
     "data": {
      "image/png": "[encoded data removed]",
      "text/plain": [
       "<Figure size 640x480 with 1 Axes>"
      ]
     },
     "metadata": {},
     "output_type": "display_data"
    }
   ],
   "source": [
    "import matplotlib.pyplot as plt\n",
    "# Create a boxplot of the polarity and subjectivity scores\n",
    "plt.boxplot([df['polarity_score'], df['subjectivity_score']])\n",
    "plt.xticks([1, 2], ['Polarity', 'Subjectivity'])\n",
    "plt.ylabel('Score')\n",
    "plt.title('Boxplot of Polarity and Subjectivity Scores')\n",
    "plt.show()"
   ]
  },
  {
   "cell_type": "code",
   "execution_count": 23,
   "metadata": {},
   "outputs": [
    {
     "data": {
      "image/png": "[encoded data removed]",
      "text/plain": [
       "<Figure size 640x480 with 1 Axes>"
      ]
     },
     "metadata": {},
     "output_type": "display_data"
    }
   ],
   "source": [
    "# Create a scatter plot of the polarity and subjectivity scores\n",
    "plt.scatter(df['polarity_score'], df['subjectivity_score'])\n",
    "plt.xlabel('Polarity Score')\n",
    "plt.ylabel('Subjectivity Score')\n",
    "plt.title('Scatter Plot of Polarity and Subjectivity Scores')\n",
    "plt.show()"
   ]
  },
  {
   "cell_type": "code",
   "execution_count": 24,
   "metadata": {},
   "outputs": [],
   "source": [
    "negative_scores = df.loc[df['TextBlob_Analysis'] == \"Negative\"]"
   ]
  },
  {
   "cell_type": "code",
   "execution_count": 25,
   "metadata": {},
   "outputs": [
    {
     "data": {
      "text/html": [
       "<div>\n",
       "<style scoped>\n",
       "    .dataframe tbody tr th:only-of-type {\n",
       "        vertical-align: middle;\n",
       "    }\n",
       "\n",
       "    .dataframe tbody tr th {\n",
       "        vertical-align: top;\n",
       "    }\n",
       "\n",
       "    .dataframe thead th {\n",
       "        text-align: right;\n",
       "    }\n",
       "</style>\n",
       "<table border=\"1\" class=\"dataframe\">\n",
       "  <thead>\n",
       "    <tr style=\"text-align: right;\">\n",
       "      <th></th>\n",
       "      <th>filename</th>\n",
       "      <th>actual_text</th>\n",
       "      <th>polarity_score</th>\n",
       "      <th>subjectivity_score</th>\n",
       "      <th>TextBlob_Analysis</th>\n",
       "    </tr>\n",
       "  </thead>\n",
       "  <tbody>\n",
       "    <tr>\n",
       "      <th>6</th>\n",
       "      <td>.\\fall_2019_online\\melinemelissa_3882080_59274...</td>\n",
       "      <td>Melissa Meline\\n\\nIntro to literature\\n\\nFinal...</td>\n",
       "      <td>-0.012199</td>\n",
       "      <td>0.549439</td>\n",
       "      <td>Negative</td>\n",
       "    </tr>\n",
       "    <tr>\n",
       "      <th>10</th>\n",
       "      <td>.\\fall_2020\\alexisrobbins_3893242_60351219_Rob...</td>\n",
       "      <td>Alexis Robbins\\n\\nDr. Spicer\\n\\nIntro to Lit: ...</td>\n",
       "      <td>-0.030971</td>\n",
       "      <td>0.550329</td>\n",
       "      <td>Negative</td>\n",
       "    </tr>\n",
       "    <tr>\n",
       "      <th>13</th>\n",
       "      <td>.\\fall_2020\\makaylabarefield_3892648_60351455_...</td>\n",
       "      <td>Makayla Barefield\\n\\nWeird Fiction\\n\\nSpicer\\n...</td>\n",
       "      <td>-0.089922</td>\n",
       "      <td>0.614341</td>\n",
       "      <td>Negative</td>\n",
       "    </tr>\n",
       "    <tr>\n",
       "      <th>21</th>\n",
       "      <td>.\\fall_2021\\mafadeenadeen_3905040_61458009_Fin...</td>\n",
       "      <td>Nadeen Mafadee\\n\\nIntroduction to Literature: ...</td>\n",
       "      <td>-0.071849</td>\n",
       "      <td>0.607852</td>\n",
       "      <td>Negative</td>\n",
       "    </tr>\n",
       "    <tr>\n",
       "      <th>33</th>\n",
       "      <td>.\\spring_2022\\davilacaroline_LATE_3908376_6183...</td>\n",
       "      <td>D’Avila \\n\\n\\n\\n\\n\\n\\n\\n\\n\\n\\n\\n\\n\\nFinal Proj...</td>\n",
       "      <td>-0.025323</td>\n",
       "      <td>0.573939</td>\n",
       "      <td>Negative</td>\n",
       "    </tr>\n",
       "    <tr>\n",
       "      <th>35</th>\n",
       "      <td>.\\spring_2022\\millerlogan_3899426_61819733_Fin...</td>\n",
       "      <td>Logan Miller\\n\\nProfessor Spicer\\n\\nWeird Fict...</td>\n",
       "      <td>-0.066889</td>\n",
       "      <td>0.616817</td>\n",
       "      <td>Negative</td>\n",
       "    </tr>\n",
       "  </tbody>\n",
       "</table>\n",
       "</div>"
      ],
      "text/plain": [
       "                                             filename  \\\n",
       "6   .\\fall_2019_online\\melinemelissa_3882080_59274...   \n",
       "10  .\\fall_2020\\alexisrobbins_3893242_60351219_Rob...   \n",
       "13  .\\fall_2020\\makaylabarefield_3892648_60351455_...   \n",
       "21  .\\fall_2021\\mafadeenadeen_3905040_61458009_Fin...   \n",
       "33  .\\spring_2022\\davilacaroline_LATE_3908376_6183...   \n",
       "35  .\\spring_2022\\millerlogan_3899426_61819733_Fin...   \n",
       "\n",
       "                                          actual_text  polarity_score  \\\n",
       "6   Melissa Meline\\n\\nIntro to literature\\n\\nFinal...       -0.012199   \n",
       "10  Alexis Robbins\\n\\nDr. Spicer\\n\\nIntro to Lit: ...       -0.030971   \n",
       "13  Makayla Barefield\\n\\nWeird Fiction\\n\\nSpicer\\n...       -0.089922   \n",
       "21  Nadeen Mafadee\\n\\nIntroduction to Literature: ...       -0.071849   \n",
       "33  D’Avila \\n\\n\\n\\n\\n\\n\\n\\n\\n\\n\\n\\n\\n\\nFinal Proj...       -0.025323   \n",
       "35  Logan Miller\\n\\nProfessor Spicer\\n\\nWeird Fict...       -0.066889   \n",
       "\n",
       "    subjectivity_score TextBlob_Analysis  \n",
       "6             0.549439          Negative  \n",
       "10            0.550329          Negative  \n",
       "13            0.614341          Negative  \n",
       "21            0.607852          Negative  \n",
       "33            0.573939          Negative  \n",
       "35            0.616817          Negative  "
      ]
     },
     "execution_count": 25,
     "metadata": {},
     "output_type": "execute_result"
    }
   ],
   "source": [
    "negative_scores"
   ]
  },
  {
   "cell_type": "code",
   "execution_count": 26,
   "metadata": {},
   "outputs": [
    {
     "name": "stderr",
     "output_type": "stream",
     "text": [
      "C:\\Users\\KSpicer\\AppData\\Local\\Temp\\ipykernel_12640\\1529334810.py:13: SettingWithCopyWarning: \n",
      "A value is trying to be set on a copy of a slice from a DataFrame.\n",
      "Try using .loc[row_indexer,col_indexer] = value instead\n",
      "\n",
      "See the caveats in the documentation: https://pandas.pydata.org/pandas-docs/stable/user_guide/indexing.html#returning-a-view-versus-a-copy\n",
      "  negative_scores['vader_score'] = negative_scores['actual_text'].apply(calculate_sentiment_with_vader)\n"
     ]
    }
   ],
   "source": [
    "import nltk\n",
    "from nltk.sentiment.vader import SentimentIntensityAnalyzer\n",
    "\n",
    "def calculate_sentiment_with_vader(text):\n",
    "    sid_obj = SentimentIntensityAnalyzer()\n",
    "    sentiment_dict = sid_obj.polarity_scores(text)\n",
    "    \n",
    "    # Get the key with the maximum value\n",
    "    max_key = max(sentiment_dict, key=sentiment_dict.get)\n",
    "    \n",
    "    # Return a dictionary with the max key and its score\n",
    "    return {'sentiment': max_key, 'score': sentiment_dict[max_key]}\n",
    "negative_scores['vader_score'] = negative_scores['actual_text'].apply(calculate_sentiment_with_vader)"
   ]
  },
  {
   "cell_type": "code",
   "execution_count": 27,
   "metadata": {},
   "outputs": [
    {
     "data": {
      "text/html": [
       "<div>\n",
       "<style scoped>\n",
       "    .dataframe tbody tr th:only-of-type {\n",
       "        vertical-align: middle;\n",
       "    }\n",
       "\n",
       "    .dataframe tbody tr th {\n",
       "        vertical-align: top;\n",
       "    }\n",
       "\n",
       "    .dataframe thead th {\n",
       "        text-align: right;\n",
       "    }\n",
       "</style>\n",
       "<table border=\"1\" class=\"dataframe\">\n",
       "  <thead>\n",
       "    <tr style=\"text-align: right;\">\n",
       "      <th></th>\n",
       "      <th>filename</th>\n",
       "      <th>actual_text</th>\n",
       "      <th>polarity_score</th>\n",
       "      <th>subjectivity_score</th>\n",
       "      <th>TextBlob_Analysis</th>\n",
       "      <th>vader_score</th>\n",
       "    </tr>\n",
       "  </thead>\n",
       "  <tbody>\n",
       "    <tr>\n",
       "      <th>6</th>\n",
       "      <td>.\\fall_2019_online\\melinemelissa_3882080_59274...</td>\n",
       "      <td>Melissa Meline\\n\\nIntro to literature\\n\\nFinal...</td>\n",
       "      <td>-0.012199</td>\n",
       "      <td>0.549439</td>\n",
       "      <td>Negative</td>\n",
       "      <td>{'sentiment': 'neu', 'score': 0.8}</td>\n",
       "    </tr>\n",
       "    <tr>\n",
       "      <th>10</th>\n",
       "      <td>.\\fall_2020\\alexisrobbins_3893242_60351219_Rob...</td>\n",
       "      <td>Alexis Robbins\\n\\nDr. Spicer\\n\\nIntro to Lit: ...</td>\n",
       "      <td>-0.030971</td>\n",
       "      <td>0.550329</td>\n",
       "      <td>Negative</td>\n",
       "      <td>{'sentiment': 'compound', 'score': 0.9312}</td>\n",
       "    </tr>\n",
       "    <tr>\n",
       "      <th>13</th>\n",
       "      <td>.\\fall_2020\\makaylabarefield_3892648_60351455_...</td>\n",
       "      <td>Makayla Barefield\\n\\nWeird Fiction\\n\\nSpicer\\n...</td>\n",
       "      <td>-0.089922</td>\n",
       "      <td>0.614341</td>\n",
       "      <td>Negative</td>\n",
       "      <td>{'sentiment': 'compound', 'score': 0.9437}</td>\n",
       "    </tr>\n",
       "    <tr>\n",
       "      <th>21</th>\n",
       "      <td>.\\fall_2021\\mafadeenadeen_3905040_61458009_Fin...</td>\n",
       "      <td>Nadeen Mafadee\\n\\nIntroduction to Literature: ...</td>\n",
       "      <td>-0.071849</td>\n",
       "      <td>0.607852</td>\n",
       "      <td>Negative</td>\n",
       "      <td>{'sentiment': 'neu', 'score': 0.76}</td>\n",
       "    </tr>\n",
       "    <tr>\n",
       "      <th>33</th>\n",
       "      <td>.\\spring_2022\\davilacaroline_LATE_3908376_6183...</td>\n",
       "      <td>D’Avila \\n\\n\\n\\n\\n\\n\\n\\n\\n\\n\\n\\n\\n\\nFinal Proj...</td>\n",
       "      <td>-0.025323</td>\n",
       "      <td>0.573939</td>\n",
       "      <td>Negative</td>\n",
       "      <td>{'sentiment': 'neu', 'score': 0.851}</td>\n",
       "    </tr>\n",
       "    <tr>\n",
       "      <th>35</th>\n",
       "      <td>.\\spring_2022\\millerlogan_3899426_61819733_Fin...</td>\n",
       "      <td>Logan Miller\\n\\nProfessor Spicer\\n\\nWeird Fict...</td>\n",
       "      <td>-0.066889</td>\n",
       "      <td>0.616817</td>\n",
       "      <td>Negative</td>\n",
       "      <td>{'sentiment': 'neu', 'score': 0.773}</td>\n",
       "    </tr>\n",
       "  </tbody>\n",
       "</table>\n",
       "</div>"
      ],
      "text/plain": [
       "                                             filename  \\\n",
       "6   .\\fall_2019_online\\melinemelissa_3882080_59274...   \n",
       "10  .\\fall_2020\\alexisrobbins_3893242_60351219_Rob...   \n",
       "13  .\\fall_2020\\makaylabarefield_3892648_60351455_...   \n",
       "21  .\\fall_2021\\mafadeenadeen_3905040_61458009_Fin...   \n",
       "33  .\\spring_2022\\davilacaroline_LATE_3908376_6183...   \n",
       "35  .\\spring_2022\\millerlogan_3899426_61819733_Fin...   \n",
       "\n",
       "                                          actual_text  polarity_score  \\\n",
       "6   Melissa Meline\\n\\nIntro to literature\\n\\nFinal...       -0.012199   \n",
       "10  Alexis Robbins\\n\\nDr. Spicer\\n\\nIntro to Lit: ...       -0.030971   \n",
       "13  Makayla Barefield\\n\\nWeird Fiction\\n\\nSpicer\\n...       -0.089922   \n",
       "21  Nadeen Mafadee\\n\\nIntroduction to Literature: ...       -0.071849   \n",
       "33  D’Avila \\n\\n\\n\\n\\n\\n\\n\\n\\n\\n\\n\\n\\n\\nFinal Proj...       -0.025323   \n",
       "35  Logan Miller\\n\\nProfessor Spicer\\n\\nWeird Fict...       -0.066889   \n",
       "\n",
       "    subjectivity_score TextBlob_Analysis  \\\n",
       "6             0.549439          Negative   \n",
       "10            0.550329          Negative   \n",
       "13            0.614341          Negative   \n",
       "21            0.607852          Negative   \n",
       "33            0.573939          Negative   \n",
       "35            0.616817          Negative   \n",
       "\n",
       "                                   vader_score  \n",
       "6           {'sentiment': 'neu', 'score': 0.8}  \n",
       "10  {'sentiment': 'compound', 'score': 0.9312}  \n",
       "13  {'sentiment': 'compound', 'score': 0.9437}  \n",
       "21         {'sentiment': 'neu', 'score': 0.76}  \n",
       "33        {'sentiment': 'neu', 'score': 0.851}  \n",
       "35        {'sentiment': 'neu', 'score': 0.773}  "
      ]
     },
     "execution_count": 27,
     "metadata": {},
     "output_type": "execute_result"
    }
   ],
   "source": [
    "negative_scores"
   ]
  },
  {
   "cell_type": "code",
   "execution_count": 28,
   "metadata": {},
   "outputs": [
    {
     "name": "stderr",
     "output_type": "stream",
     "text": [
      "C:\\Users\\KSpicer\\AppData\\Local\\Temp\\ipykernel_12640\\357153856.py:1: SettingWithCopyWarning: \n",
      "A value is trying to be set on a copy of a slice from a DataFrame.\n",
      "Try using .loc[row_indexer,col_indexer] = value instead\n",
      "\n",
      "See the caveats in the documentation: https://pandas.pydata.org/pandas-docs/stable/user_guide/indexing.html#returning-a-view-versus-a-copy\n",
      "  negative_scores['vader_sentiment'] = negative_scores['vader_score'].apply(lambda x: x['sentiment'])\n",
      "C:\\Users\\KSpicer\\AppData\\Local\\Temp\\ipykernel_12640\\357153856.py:2: SettingWithCopyWarning: \n",
      "A value is trying to be set on a copy of a slice from a DataFrame.\n",
      "Try using .loc[row_indexer,col_indexer] = value instead\n",
      "\n",
      "See the caveats in the documentation: https://pandas.pydata.org/pandas-docs/stable/user_guide/indexing.html#returning-a-view-versus-a-copy\n",
      "  negative_scores['vader_score'] = negative_scores['vader_score'].apply(lambda x: x['score'])\n"
     ]
    }
   ],
   "source": [
    "negative_scores['vader_sentiment'] = negative_scores['vader_score'].apply(lambda x: x['sentiment'])\n",
    "negative_scores['vader_score'] = negative_scores['vader_score'].apply(lambda x: x['score'])"
   ]
  },
  {
   "cell_type": "code",
   "execution_count": 29,
   "metadata": {},
   "outputs": [
    {
     "name": "stderr",
     "output_type": "stream",
     "text": [
      "C:\\Users\\KSpicer\\AppData\\Local\\Temp\\ipykernel_12640\\2262484067.py:1: SettingWithCopyWarning: \n",
      "A value is trying to be set on a copy of a slice from a DataFrame.\n",
      "Try using .loc[row_indexer,col_indexer] = value instead\n",
      "\n",
      "See the caveats in the documentation: https://pandas.pydata.org/pandas-docs/stable/user_guide/indexing.html#returning-a-view-versus-a-copy\n",
      "  negative_scores['sentiment'] = negative_scores['vader_score'].apply(lambda score: 'pos' if score > 0 else ('neu' if score == 0 else 'neg'))\n"
     ]
    }
   ],
   "source": [
    "negative_scores['sentiment'] = negative_scores['vader_score'].apply(lambda score: 'pos' if score > 0 else ('neu' if score == 0 else 'neg'))\n",
    "color_list = []\n",
    "for sentiment in negative_scores['sentiment']:\n",
    "    if sentiment == 'pos':\n",
    "        color_list.append('green')\n",
    "    elif sentiment == 'neu':\n",
    "        color_list.append('gray')\n",
    "    else:\n",
    "        color_list.append('red')"
   ]
  },
  {
   "cell_type": "code",
   "execution_count": 30,
   "metadata": {},
   "outputs": [],
   "source": [
    "negative_scores = negative_scores.reset_index()"
   ]
  },
  {
   "cell_type": "code",
   "execution_count": 31,
   "metadata": {},
   "outputs": [
    {
     "data": {
      "image/png": "[encoded data removed]",
      "text/plain": [
       "<Figure size 640x480 with 1 Axes>"
      ]
     },
     "metadata": {},
     "output_type": "display_data"
    }
   ],
   "source": [
    "import matplotlib.pyplot as plt\n",
    "\n",
    "# create a scatter plot with color coded by 'sentiment'\n",
    "plt.scatter(negative_scores.index, negative_scores['vader_score'], c=color_list)\n",
    "plt.show()\n"
   ]
  },
  {
   "cell_type": "code",
   "execution_count": 33,
   "metadata": {},
   "outputs": [
    {
     "data": {
      "text/plain": [
       "\"Melissa Meline\\n\\nIntro to literature\\n\\nFinal project\\n\\n12/12/19 \\n\\n\\tSUMMARY: The film “Donnie Darko” follows a mentally disturbed teenager named Donnie, who is a diagnosed schizophrenic that refuses to take his medications. Because of the lack of medication, Donnie starts to have weird dreams of a bunny named Frank, who on their first encounter, tells Donnie that the world is going to end in exactly 28 days. While Donnie has these dreams, he also sleeps walk, and his first encounter actually saves his life as his sleepwalking body ended up in a golf course while a jet engine fell in what would be a sleeping Donnie’s room. Since Frank told Donnie to get out of the house, Donnie agrees to do things that Frank says even though he knows they are wrong, but feels obligated to because Frank saved his life. These things include flooding his school by busting a water pipe, as well as set fire to a local celebrity’s house which actually reveals a “kiddie porn dungeon” and gets the celebrity arrested. At one point, Donnie asks Frank to take off the bunny suit and reveals another teenager with a bloody eye that says “I’m so sorry” to Donnie. During his awake life, Donnie connects with a girl named Gretchen. Gretchen is also a little messed up as she moved to Donnie’s town because of an abusive stepfather. Frank also tells Donnie about time travel, convincing him he has the power to do it. This leads Donnie to inquire about time travel to his science teacher, who tells him the basics of it as well as the fact that an author of “the philosophy of time travel” is the old recluse that lives on the outskirts of town, who the kids have nicknamed Grandma Death, because of her insane behaviors. Minutes before the countdown is over, and it’s the end of the world, Donnie drags Gretchen to Grandma Death’s house telling her they need to get there before its too late. Donnie and Gretchen unknowingly interrupt a robbery, and a confrontation happens and both Donnie and Gretchen are thrown into the street. Right after a car comes by and Gretchen gets ran over. Out of the car steps a young man in a bunny costume, and his passenger exclaims “FRANK! What did you do?”, Frank takes off his mask and turns to Donnie who then shoots him in eye. Donnie is so devastated about Gretchen death that he takes her dead body in his moms’ car and drives it into some type of storm. Donnie awakens in his bedroom, laughing. Moments later the jet engine crashes into his room. As the paramedics wheel out his squished body, Gretchen rides by on her bike. \\n\\n\\n\\n\\t\\n\\n\\n\\n\\n\\n\\n\\n\\n\\n\\t“Donnie Darko” is first presented as a movie about a teenager’s descent into madness as he stops taking his medications and start having visions as well as misbehaving. However, it turns into a “weird” film, when the visions start to appear not so imaginary. Unknowingly, Donnie’s visions predict the future in not so obvious ways. For example, Donnie asks his bunny friend to remove the mask, to reveal the teenager that would be responsible for Gretchen’s death, and he is missing they eye that Donnie is going to shoot through. The veil between imaginary and reality is blurred in the backgrounds as the real Frank starts to make his appearances. Right before Donnie drags Gretchen away from a Halloween party, the refrigerator in the background displays a note saying “Frank will be right back, went to get beer”, as well as that Donnie’s sister also looks for her friend Frank earlier in the day. The film also crosses into weird territory when Grandma Death is involved. As she once told Donnie that everyone dies alone, which is how Donnie dies in the end of the movie, alone without Gretchen, even though that was what he feared most. \\n\\n\\t Besides the obviously weird plot, the director also instilled some subtle background that solidified the weird vibes from this movie. For example, when the jet engine first crashes through the roof into Donnie’s room, his family doesn’t seem concerned at all. In fact, they seem nonchalant about the whole thing as well as telling the agent “sure whatever you say” when instructed to sign nondisclosure agreements. In addition to this, the scene outside is very bright and colorful. In keeping with this theme of ignoring the wrong, shortly after we see the interior of Donnie’s school and observe a student openly doing cocaine in the halls, while teachers walk by and say nothing. This theme is seen time and time again, especially with a character Kitty Farmer, who idolizes the celebrity and denies his wrong doings but harps on Donnie’s inappropriate language. This subtle theme made the viewers side with Donnie’s view point more, because he seemed to be the only one to see through the charade as well as call people out on it. \\n\\n\\tThere was also a not so subtle weird aspect that was kind of off putting through out the film. This was the dialogue between the characters, this could have been the result of lapse in judgement during writing, although it did seem intentional. For instance, when Gretchen first appears in Donnie’s class, the teacher told her to sit next to the cutest boy. While that would have probably landed well in a coming of age movie, it doesn’t fit into this film. However, it did seem intentional, as when people talk to Donnie its almost always in an admiring tone, as his principal told him his scores were intimidating, his friends always complimenting him, and Gretchen idolizing him. Not to mention his parents never getting upset with him even when he gets suspended from school, or calling his mother a b**ch. If this dialogue was intentional, the purpose seemed to make Donnie’s reality seem not so real, too many good things were happening, in fact the dialogue coupled with the previous mentioned themed of ignorance seems to suggest the Donnie’s reality isn’t so real. \\n\\nLastly there are many nuances of the story that were weird. One instance is that Donnie begins to see people’s solar plexus. It appears to look like floating water out of everyone's chest, and it shows the path they are going to take. Donnie first sees one out of his father’s chest, ending at the fridge in which in the next moment his father gets up and declares that he is going to go get a beer out the fridge. Next Donnie sees one out of his own chest, which ultimately leads him into his parents' bedroom to steal the gun, which he eventually uses on the real Frank. This is weird because the solar plexus appears to dictate where people are destined to be, in which case the ultimate confrontation between Donnie and Frank is beyond anyone's control. Donnie begins to see these solar plexuses after he reads about them in Grandma Death’s book and the bunny Frank tell him that he can do anything. With that knowledge, one can infer that they are a figment of his imagination, and perhaps he saw his dad’s because getting a beer while watching football is a well-known behavior of his. Donnie’s own solar plexus could be a reflection of what he wants. This idea is supported by the fact that we don’t see any solar plexuses demonstrating abnormal paths, or paths that aren't apart of every day routines. \\n\\nSome of the more foreshadowing scenes leave a big impression. One of them being Grandma Death. Grandma Death’s real name is Roberta Sparrow, and she used to teach at Donnie’s school as well as intelligent scientist that specialized in time travel, and wrote her own book on it. However, we only see her as the crazy recluse, who wanders into the street every day to repeatedly check her mailbox. In one scene Donnie’s father almost hits her so Donnie escorts her to safety, in which Sparrow tells Donnie’ that everyone dies alone. This part was heavy as it reveals Donnie’s worse fear of being alone, as well as foreshadowing his death in that he chooses to die alone to save Gretchen. The scene that follows, which is Donnie with his therapist explaining his fear and crying, really tugs at the heart strings and makes his death all the sadder. \\n\\nAnother scene that carries heavy weight is the scene in which bunny Frank removes his mask and shows the real him. This scene is not as impactful in the moment but when looking back it had a lot of depth. The scene begins with Donnie and Gretchen at a movie theatre in which Gretchen falls asleep, and perhaps Donnie does too because Frank appears. When he does appear, Donnie questions him about his stupid bunny suit and asks him to take it off, revealing a teenager with a missing/damaged eye. Donnie then asks him about it, Franks only reply is that he is sorry. A moment passes and then Franks tells him to commit arson. First thoughts on the apology is that Frank is sorry for making Donnie do these crimes, but actually Frank is apologizing for his own future crime against Gretchen. \\n\\nThis film doesn’t strike any strong resonance with stories that we’ve read in this class however it does remind me of the well-known Catcher in the Rye, as Donnie is obsessed with calling adults out on their inconsistencies, much like Holton hates the phonies that surround him every day. Besides that, connection “Donnie Darko” is a film that I personally haven't seen anything like. \\n\\nDuring this course, we have focused solely on weird literature, but the weird genre encompasses all medias including film and music and art. Each media has its advantages. In writing every detail that is written is seen by the audience, making it easier to draw attention to subtle motifs. This is harder to do in film because background details are often overlooked. Every detail that the author deems important is presented clearly to the audience. In film this is harder to pick up on, for instance if someone wasn’t playing close attention to “Donnie Darko” they could miss the real Frank starting to appear in the background noise of the main story on screen. On the other side, film contains audio tone which is better to relay emotion and relationships as well as set the tone for the scene. For example, the dialogue which adds subtle hints of imagination in “Donnie Darko” could be interpreted as lazy writing in a story. \\n\\nWhat makes “Donnie Darko” a weird film? Some may say that the film has some quirky parts yeah, but what actually puts it in the weird genre. In the beginning of this course we read HP Lovecraft’s essay on writing weird fiction. He states how it often based on dreams and fear, are our way of coping with the unknown and our fear. Donnie Darko main theme is about mental illness, what's scarier than knowing your mind is playing tricks on you as well as not knowing what is real or not. This is the premise of the entire film, even if the audience forgets it. Because of that this film indeed falls into the weird fiction category.\""
      ]
     },
     "execution_count": 33,
     "metadata": {},
     "output_type": "execute_result"
    }
   ],
   "source": [
    "negative_scores.loc[0, 'actual_text']"
   ]
  },
  {
   "cell_type": "code",
   "execution_count": 34,
   "metadata": {},
   "outputs": [
    {
     "data": {
      "text/plain": [
       "'Alexis Robbins\\n\\nDr. Spicer\\n\\nIntro to Lit: Weird Fiction \\n\\nDecember 10, 2020 \\n\\nFinal Project (Self-Reflection)\\n\\n\\tWhen I signed up for this course, Into to Lit: Weird Fiction, I was not sure what to expect as I had never heard of weird fiction before. I was not sure if it would be stories that were horror based, paranormal activity based or some other story line that provokes fear in people. But, come to find out, there is a very broad range in what is considered “weird fiction.” Some stories seemed as though they could have happened real life, while other stories were very far-fetched and had absolutely no chance of happening in real life. But there was common occurrence between all the stories; something out of the ordinary did happen. \\n\\n\\tAn out of the ordinary occurrence could have been a multitude of events. Some stories had people come up dead at the end while other stories had made believe creatures that transformed or followed characters through the plot of the story. Either way, it was these off events that kept me interested in the readings. If it was not for these events, I feel that the stories would have been lackluster and boring to read. My favorite stories were the ones that kept me in suspense; where what happened next was not something that one would have guessed. There was even one story where there was suspense throughout, but then the ending was a cliffhanger. It left me wanting to keep reading to find out what happened after the ending, but no such further reading was provided in the anthology of short stories that classified as weird fiction. While the readings helped me to understand what classified as weird fiction, and showed me a new type of literature that I can see myself reading for leisure, the course itself was not what I expected either. \\n\\n\\tWith having a literature course online, I was expecting lots of reading and analytical essays, as this was what most of my literature classes had been in the past. They had been very writing heavy. A novel would be read, whether fiction or nonfiction, and then elements of the story, such as an event in the story, a symbol or a quote, were analyzed as to what they could mean or how they affected the story. I often find found these heard to write as I am not strong at analyzing what the hidden meaning behind a symbol or quote could be. I even felt that I was wrong in writing what I was during most those analytical essays. So, to say that this course was not what I was expecting was an understatement. But that was part of what I enjoyed about the course. I\\n\\n feel that for literature, a discussion-based course is actually beneficial, as it allows for you to see how others viewed the same stories you read differently. Often times, when reading my peers answers for their discussion posts, I would find it interesting how the same story can be viewed in two different ways. They may find one element of a story weird or disturbing, while I would find another portion of the story weird or disturbing. A few times, I even found whole interpretations of the story to be completely different from what I understood the story as. But it allowed me to reflect back and what I read, and realize where they were coming from in their interpretation of the text. The discussion posts, while still being analytical, allowed for personal thoughts too. For a majority of the stories, I thought they flowed well and were good reads. But there were a few where I did not understand why an event happened or found the story hard to follow along with. And I was able to openly express this if it was a concern in one of the three stories that I had read for the weeks. \\n\\nOverall, I enjoyed the format of the course, with it being a discussion-based class, thought it would have been nice to openly debate with my peers in an open classroom, but that is not an option right now. I also thoroughly enjoyed being introduced to a new topic of literature and enjoying what I read for the most part, because, personally, if I do not enjoy what I am reading, it becomes a chore that I put off rather than a leisurely, enjoyable read.'"
      ]
     },
     "execution_count": 34,
     "metadata": {},
     "output_type": "execute_result"
    }
   ],
   "source": [
    "negative_scores.loc[1, 'actual_text']"
   ]
  }
 ],
 "metadata": {
  "kernelspec": {
   "display_name": "python311",
   "language": "python",
   "name": "python3"
  },
  "language_info": {
   "codemirror_mode": {
    "name": "ipython",
    "version": 3
   },
   "file_extension": ".py",
   "mimetype": "text/x-python",
   "name": "python",
   "nbconvert_exporter": "python",
   "pygments_lexer": "ipython3",
   "version": "3.11.0"
  },
  "orig_nbformat": 4,
  "vscode": {
   "interpreter": {
    "hash": "4159a6653fa75438f66a7bfc0596de9be5c1734cbef8b4e22353e9d3f86b82c0"
   }
  }
 },
 "nbformat": 4,
 "nbformat_minor": 2
}
